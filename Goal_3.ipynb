{
 "cells": [
  {
   "cell_type": "code",
   "execution_count": 1,
   "metadata": {},
   "outputs": [],
   "source": [
    "import pandas as pd\n",
    "import numpy as np\n",
    "from itertools import combinations\n",
    "import seaborn as sns\n",
    "import matplotlib.pyplot as plt"
   ]
  },
  {
   "cell_type": "markdown",
   "metadata": {},
   "source": [
    "Loading the data and combining the data into one frame"
   ]
  },
  {
   "cell_type": "code",
   "execution_count": 2,
   "metadata": {},
   "outputs": [],
   "source": [
    "data1 = pd.read_csv('2009-10.csv', encoding='latin1')\n",
    "data2 = pd.read_csv('20010-11.csv', encoding='latin1')"
   ]
  },
  {
   "cell_type": "code",
   "execution_count": 3,
   "metadata": {},
   "outputs": [],
   "source": [
    "data = pd.concat([data1, data2])\n",
    "data.reset_index(drop=True, inplace=True)"
   ]
  },
  {
   "cell_type": "code",
   "execution_count": 4,
   "metadata": {},
   "outputs": [
    {
     "data": {
      "text/plain": [
       "(1067371, 8)"
      ]
     },
     "execution_count": 4,
     "metadata": {},
     "output_type": "execute_result"
    }
   ],
   "source": [
    "data.shape"
   ]
  },
  {
   "cell_type": "code",
   "execution_count": 5,
   "metadata": {},
   "outputs": [
    {
     "data": {
      "text/html": [
       "<div>\n",
       "<style scoped>\n",
       "    .dataframe tbody tr th:only-of-type {\n",
       "        vertical-align: middle;\n",
       "    }\n",
       "\n",
       "    .dataframe tbody tr th {\n",
       "        vertical-align: top;\n",
       "    }\n",
       "\n",
       "    .dataframe thead th {\n",
       "        text-align: right;\n",
       "    }\n",
       "</style>\n",
       "<table border=\"1\" class=\"dataframe\">\n",
       "  <thead>\n",
       "    <tr style=\"text-align: right;\">\n",
       "      <th></th>\n",
       "      <th>Invoice</th>\n",
       "      <th>StockCode</th>\n",
       "      <th>Description</th>\n",
       "      <th>Quantity</th>\n",
       "      <th>InvoiceDate</th>\n",
       "      <th>Price</th>\n",
       "      <th>Customer ID</th>\n",
       "      <th>Country</th>\n",
       "    </tr>\n",
       "  </thead>\n",
       "  <tbody>\n",
       "    <tr>\n",
       "      <th>0</th>\n",
       "      <td>489434</td>\n",
       "      <td>85048</td>\n",
       "      <td>15CM CHRISTMAS GLASS BALL 20 LIGHTS</td>\n",
       "      <td>12</td>\n",
       "      <td>12/1/2009 7:45</td>\n",
       "      <td>6.95</td>\n",
       "      <td>13085.0</td>\n",
       "      <td>United Kingdom</td>\n",
       "    </tr>\n",
       "    <tr>\n",
       "      <th>1</th>\n",
       "      <td>489434</td>\n",
       "      <td>79323P</td>\n",
       "      <td>PINK CHERRY LIGHTS</td>\n",
       "      <td>12</td>\n",
       "      <td>12/1/2009 7:45</td>\n",
       "      <td>6.75</td>\n",
       "      <td>13085.0</td>\n",
       "      <td>United Kingdom</td>\n",
       "    </tr>\n",
       "    <tr>\n",
       "      <th>2</th>\n",
       "      <td>489434</td>\n",
       "      <td>79323W</td>\n",
       "      <td>WHITE CHERRY LIGHTS</td>\n",
       "      <td>12</td>\n",
       "      <td>12/1/2009 7:45</td>\n",
       "      <td>6.75</td>\n",
       "      <td>13085.0</td>\n",
       "      <td>United Kingdom</td>\n",
       "    </tr>\n",
       "    <tr>\n",
       "      <th>3</th>\n",
       "      <td>489434</td>\n",
       "      <td>22041</td>\n",
       "      <td>RECORD FRAME 7\" SINGLE SIZE</td>\n",
       "      <td>48</td>\n",
       "      <td>12/1/2009 7:45</td>\n",
       "      <td>2.10</td>\n",
       "      <td>13085.0</td>\n",
       "      <td>United Kingdom</td>\n",
       "    </tr>\n",
       "    <tr>\n",
       "      <th>4</th>\n",
       "      <td>489434</td>\n",
       "      <td>21232</td>\n",
       "      <td>STRAWBERRY CERAMIC TRINKET BOX</td>\n",
       "      <td>24</td>\n",
       "      <td>12/1/2009 7:45</td>\n",
       "      <td>1.25</td>\n",
       "      <td>13085.0</td>\n",
       "      <td>United Kingdom</td>\n",
       "    </tr>\n",
       "    <tr>\n",
       "      <th>...</th>\n",
       "      <td>...</td>\n",
       "      <td>...</td>\n",
       "      <td>...</td>\n",
       "      <td>...</td>\n",
       "      <td>...</td>\n",
       "      <td>...</td>\n",
       "      <td>...</td>\n",
       "      <td>...</td>\n",
       "    </tr>\n",
       "    <tr>\n",
       "      <th>1067366</th>\n",
       "      <td>581587</td>\n",
       "      <td>22899</td>\n",
       "      <td>CHILDREN'S APRON DOLLY GIRL</td>\n",
       "      <td>6</td>\n",
       "      <td>12/9/2011 12:50</td>\n",
       "      <td>2.10</td>\n",
       "      <td>12680.0</td>\n",
       "      <td>France</td>\n",
       "    </tr>\n",
       "    <tr>\n",
       "      <th>1067367</th>\n",
       "      <td>581587</td>\n",
       "      <td>23254</td>\n",
       "      <td>CHILDRENS CUTLERY DOLLY GIRL</td>\n",
       "      <td>4</td>\n",
       "      <td>12/9/2011 12:50</td>\n",
       "      <td>4.15</td>\n",
       "      <td>12680.0</td>\n",
       "      <td>France</td>\n",
       "    </tr>\n",
       "    <tr>\n",
       "      <th>1067368</th>\n",
       "      <td>581587</td>\n",
       "      <td>23255</td>\n",
       "      <td>CHILDRENS CUTLERY CIRCUS PARADE</td>\n",
       "      <td>4</td>\n",
       "      <td>12/9/2011 12:50</td>\n",
       "      <td>4.15</td>\n",
       "      <td>12680.0</td>\n",
       "      <td>France</td>\n",
       "    </tr>\n",
       "    <tr>\n",
       "      <th>1067369</th>\n",
       "      <td>581587</td>\n",
       "      <td>22138</td>\n",
       "      <td>BAKING SET 9 PIECE RETROSPOT</td>\n",
       "      <td>3</td>\n",
       "      <td>12/9/2011 12:50</td>\n",
       "      <td>4.95</td>\n",
       "      <td>12680.0</td>\n",
       "      <td>France</td>\n",
       "    </tr>\n",
       "    <tr>\n",
       "      <th>1067370</th>\n",
       "      <td>581587</td>\n",
       "      <td>POST</td>\n",
       "      <td>POSTAGE</td>\n",
       "      <td>1</td>\n",
       "      <td>12/9/2011 12:50</td>\n",
       "      <td>18.00</td>\n",
       "      <td>12680.0</td>\n",
       "      <td>France</td>\n",
       "    </tr>\n",
       "  </tbody>\n",
       "</table>\n",
       "<p>1067371 rows × 8 columns</p>\n",
       "</div>"
      ],
      "text/plain": [
       "        Invoice StockCode                          Description  Quantity  \\\n",
       "0        489434     85048  15CM CHRISTMAS GLASS BALL 20 LIGHTS        12   \n",
       "1        489434    79323P                   PINK CHERRY LIGHTS        12   \n",
       "2        489434    79323W                  WHITE CHERRY LIGHTS        12   \n",
       "3        489434     22041         RECORD FRAME 7\" SINGLE SIZE         48   \n",
       "4        489434     21232       STRAWBERRY CERAMIC TRINKET BOX        24   \n",
       "...         ...       ...                                  ...       ...   \n",
       "1067366  581587     22899         CHILDREN'S APRON DOLLY GIRL          6   \n",
       "1067367  581587     23254        CHILDRENS CUTLERY DOLLY GIRL          4   \n",
       "1067368  581587     23255      CHILDRENS CUTLERY CIRCUS PARADE         4   \n",
       "1067369  581587     22138        BAKING SET 9 PIECE RETROSPOT          3   \n",
       "1067370  581587      POST                              POSTAGE         1   \n",
       "\n",
       "             InvoiceDate  Price  Customer ID         Country  \n",
       "0         12/1/2009 7:45   6.95      13085.0  United Kingdom  \n",
       "1         12/1/2009 7:45   6.75      13085.0  United Kingdom  \n",
       "2         12/1/2009 7:45   6.75      13085.0  United Kingdom  \n",
       "3         12/1/2009 7:45   2.10      13085.0  United Kingdom  \n",
       "4         12/1/2009 7:45   1.25      13085.0  United Kingdom  \n",
       "...                  ...    ...          ...             ...  \n",
       "1067366  12/9/2011 12:50   2.10      12680.0          France  \n",
       "1067367  12/9/2011 12:50   4.15      12680.0          France  \n",
       "1067368  12/9/2011 12:50   4.15      12680.0          France  \n",
       "1067369  12/9/2011 12:50   4.95      12680.0          France  \n",
       "1067370  12/9/2011 12:50  18.00      12680.0          France  \n",
       "\n",
       "[1067371 rows x 8 columns]"
      ]
     },
     "execution_count": 5,
     "metadata": {},
     "output_type": "execute_result"
    }
   ],
   "source": [
    "data"
   ]
  },
  {
   "cell_type": "markdown",
   "metadata": {},
   "source": [
    "Making note of the top 10 selling items"
   ]
  },
  {
   "cell_type": "code",
   "execution_count": 7,
   "metadata": {},
   "outputs": [],
   "source": [
    "top_10_stocks = data['StockCode'].value_counts().head(10).index"
   ]
  },
  {
   "cell_type": "code",
   "execution_count": 9,
   "metadata": {},
   "outputs": [
    {
     "data": {
      "text/plain": [
       "Index(['85123A', '22423', '85099B', '21212', '20725', '84879', '47566',\n",
       "       '21232', '22197', '22383'],\n",
       "      dtype='object', name='StockCode')"
      ]
     },
     "execution_count": 9,
     "metadata": {},
     "output_type": "execute_result"
    }
   ],
   "source": [
    "top_10_stocks"
   ]
  },
  {
   "cell_type": "markdown",
   "metadata": {},
   "source": [
    "Calculating the Abi Index"
   ]
  },
  {
   "cell_type": "code",
   "execution_count": 10,
   "metadata": {},
   "outputs": [],
   "source": [
    "abi_index = {}"
   ]
  },
  {
   "cell_type": "code",
   "execution_count": 11,
   "metadata": {},
   "outputs": [],
   "source": [
    "for i in combinations(top_10_stocks, 2):\n",
    "    pairs = len(data[(data['StockCode'] == i[0]) & (data['StockCode'].shift(-1) == i[1])])\n",
    "    abi_index[i] = pairs / len(data[data['StockCode'] == i[0]])"
   ]
  },
  {
   "cell_type": "code",
   "execution_count": 15,
   "metadata": {},
   "outputs": [
    {
     "data": {
      "text/plain": [
       "{('85123A', '22423'): 0.005832904443300738,\n",
       " ('85123A', '85099B'): 0.004460456338994682,\n",
       " ('85123A', '21212'): 0.001544004117344313,\n",
       " ('85123A', '20725'): 0.0027448962086121117,\n",
       " ('85123A', '84879'): 0.007720020586721565,\n",
       " ('85123A', '47566'): 0.0053182364041859664,\n",
       " ('85123A', '21232'): 0.0027448962086121117,\n",
       " ('85123A', '22197'): 0.003602676273803397,\n",
       " ('85123A', '22383'): 0.0008577800651912849,\n",
       " ('22423', '85099B'): 0.0031645569620253164,\n",
       " ('22423', '21212'): 0.005198915009041591,\n",
       " ('22423', '20725'): 0.0018083182640144665,\n",
       " ('22423', '84879'): 0.007459312839059674,\n",
       " ('22423', '47566'): 0.004746835443037975,\n",
       " ('22423', '21232'): 0.0033905967450271247,\n",
       " ('22423', '22197'): 0.004746835443037975,\n",
       " ('22423', '22383'): 0.00135623869801085,\n",
       " ('85099B', '21212'): 0.0023719165085388993,\n",
       " ('85099B', '20725'): 0.013045540796963948,\n",
       " ('85099B', '84879'): 0.0018975332068311196,\n",
       " ('85099B', '47566'): 0.0026091081593927895,\n",
       " ('85099B', '21232'): 0.0016603415559772296,\n",
       " ('85099B', '22197'): 0.0030834914611005695,\n",
       " ('85099B', '22383'): 0.004269449715370019,\n",
       " ('21212', '20725'): 0.0039180229053646775,\n",
       " ('21212', '84879'): 0.0015069318866787222,\n",
       " ('21212', '47566'): 0.0030138637733574444,\n",
       " ('21212', '21232'): 0.012055455093429777,\n",
       " ('21212', '22197'): 0.0015069318866787222,\n",
       " ('21212', '22383'): 0.0006027727546714888,\n",
       " ('20725', '84879'): 0.000613685179502915,\n",
       " ('20725', '47566'): 0.0009205277692543725,\n",
       " ('20725', '21232'): 0.005523166615526235,\n",
       " ('20725', '22197'): 0.00122737035900583,\n",
       " ('20725', '22383'): 0.0447990181037128,\n",
       " ('84879', '47566'): 0.008108108108108109,\n",
       " ('84879', '21232'): 0.0016891891891891893,\n",
       " ('84879', '22197'): 0.002364864864864865,\n",
       " ('84879', '22383'): 0.0006756756756756757,\n",
       " ('47566', '21232'): 0.002167630057803468,\n",
       " ('47566', '22197'): 0.0036127167630057803,\n",
       " ('47566', '22383'): 0.0018063583815028901,\n",
       " ('21232', '22197'): 0.0029122679286494356,\n",
       " ('21232', '22383'): 0.0018201674554058974,\n",
       " ('22197', '22383'): 0.0011769321302471558}"
      ]
     },
     "execution_count": 15,
     "metadata": {},
     "output_type": "execute_result"
    }
   ],
   "source": []
  },
  {
   "cell_type": "markdown",
   "metadata": {},
   "source": [
    "Calculating the next best product according to the abi index"
   ]
  },
  {
   "cell_type": "code",
   "execution_count": 19,
   "metadata": {},
   "outputs": [],
   "source": [
    "next_product = {}\n",
    "\n",
    "for item in top_10_stocks:\n",
    "    related_items = [(k[1], v) for k, v in abi_index.items() if k[0] == item]\n",
    "    if related_items:\n",
    "        next_product[item] = max(related_items, key=lambda x: x[1])[0]\n",
    "    else:\n",
    "        next_product[item] = None\n"
   ]
  },
  {
   "cell_type": "code",
   "execution_count": 20,
   "metadata": {},
   "outputs": [
    {
     "data": {
      "text/plain": [
       "{'85123A': '84879',\n",
       " '22423': '84879',\n",
       " '85099B': '20725',\n",
       " '21212': '21232',\n",
       " '20725': '22383',\n",
       " '84879': '47566',\n",
       " '47566': '22197',\n",
       " '21232': '22197',\n",
       " '22197': '22383',\n",
       " '22383': None}"
      ]
     },
     "execution_count": 20,
     "metadata": {},
     "output_type": "execute_result"
    }
   ],
   "source": [
    "next_product"
   ]
  },
  {
   "cell_type": "markdown",
   "metadata": {},
   "source": [
    "Creating the dataframe of the corresponding values"
   ]
  },
  {
   "cell_type": "code",
   "execution_count": 21,
   "metadata": {},
   "outputs": [],
   "source": [
    "abi_mat = pd.DataFrame(index=top_10_stocks, columns=top_10_stocks)\n",
    "for i, j in abi_index.items():\n",
    "    abi_mat.loc[i[0], i[1]] = j\n",
    "\n",
    "    "
   ]
  },
  {
   "cell_type": "code",
   "execution_count": 22,
   "metadata": {},
   "outputs": [
    {
     "data": {
      "text/html": [
       "<div>\n",
       "<style scoped>\n",
       "    .dataframe tbody tr th:only-of-type {\n",
       "        vertical-align: middle;\n",
       "    }\n",
       "\n",
       "    .dataframe tbody tr th {\n",
       "        vertical-align: top;\n",
       "    }\n",
       "\n",
       "    .dataframe thead th {\n",
       "        text-align: right;\n",
       "    }\n",
       "</style>\n",
       "<table border=\"1\" class=\"dataframe\">\n",
       "  <thead>\n",
       "    <tr style=\"text-align: right;\">\n",
       "      <th>StockCode</th>\n",
       "      <th>85123A</th>\n",
       "      <th>22423</th>\n",
       "      <th>85099B</th>\n",
       "      <th>21212</th>\n",
       "      <th>20725</th>\n",
       "      <th>84879</th>\n",
       "      <th>47566</th>\n",
       "      <th>21232</th>\n",
       "      <th>22197</th>\n",
       "      <th>22383</th>\n",
       "    </tr>\n",
       "    <tr>\n",
       "      <th>StockCode</th>\n",
       "      <th></th>\n",
       "      <th></th>\n",
       "      <th></th>\n",
       "      <th></th>\n",
       "      <th></th>\n",
       "      <th></th>\n",
       "      <th></th>\n",
       "      <th></th>\n",
       "      <th></th>\n",
       "      <th></th>\n",
       "    </tr>\n",
       "  </thead>\n",
       "  <tbody>\n",
       "    <tr>\n",
       "      <th>85123A</th>\n",
       "      <td>NaN</td>\n",
       "      <td>0.005833</td>\n",
       "      <td>0.00446</td>\n",
       "      <td>0.001544</td>\n",
       "      <td>0.002745</td>\n",
       "      <td>0.00772</td>\n",
       "      <td>0.005318</td>\n",
       "      <td>0.002745</td>\n",
       "      <td>0.003603</td>\n",
       "      <td>0.000858</td>\n",
       "    </tr>\n",
       "    <tr>\n",
       "      <th>22423</th>\n",
       "      <td>NaN</td>\n",
       "      <td>NaN</td>\n",
       "      <td>0.003165</td>\n",
       "      <td>0.005199</td>\n",
       "      <td>0.001808</td>\n",
       "      <td>0.007459</td>\n",
       "      <td>0.004747</td>\n",
       "      <td>0.003391</td>\n",
       "      <td>0.004747</td>\n",
       "      <td>0.001356</td>\n",
       "    </tr>\n",
       "    <tr>\n",
       "      <th>85099B</th>\n",
       "      <td>NaN</td>\n",
       "      <td>NaN</td>\n",
       "      <td>NaN</td>\n",
       "      <td>0.002372</td>\n",
       "      <td>0.013046</td>\n",
       "      <td>0.001898</td>\n",
       "      <td>0.002609</td>\n",
       "      <td>0.00166</td>\n",
       "      <td>0.003083</td>\n",
       "      <td>0.004269</td>\n",
       "    </tr>\n",
       "    <tr>\n",
       "      <th>21212</th>\n",
       "      <td>NaN</td>\n",
       "      <td>NaN</td>\n",
       "      <td>NaN</td>\n",
       "      <td>NaN</td>\n",
       "      <td>0.003918</td>\n",
       "      <td>0.001507</td>\n",
       "      <td>0.003014</td>\n",
       "      <td>0.012055</td>\n",
       "      <td>0.001507</td>\n",
       "      <td>0.000603</td>\n",
       "    </tr>\n",
       "    <tr>\n",
       "      <th>20725</th>\n",
       "      <td>NaN</td>\n",
       "      <td>NaN</td>\n",
       "      <td>NaN</td>\n",
       "      <td>NaN</td>\n",
       "      <td>NaN</td>\n",
       "      <td>0.000614</td>\n",
       "      <td>0.000921</td>\n",
       "      <td>0.005523</td>\n",
       "      <td>0.001227</td>\n",
       "      <td>0.044799</td>\n",
       "    </tr>\n",
       "    <tr>\n",
       "      <th>84879</th>\n",
       "      <td>NaN</td>\n",
       "      <td>NaN</td>\n",
       "      <td>NaN</td>\n",
       "      <td>NaN</td>\n",
       "      <td>NaN</td>\n",
       "      <td>NaN</td>\n",
       "      <td>0.008108</td>\n",
       "      <td>0.001689</td>\n",
       "      <td>0.002365</td>\n",
       "      <td>0.000676</td>\n",
       "    </tr>\n",
       "    <tr>\n",
       "      <th>47566</th>\n",
       "      <td>NaN</td>\n",
       "      <td>NaN</td>\n",
       "      <td>NaN</td>\n",
       "      <td>NaN</td>\n",
       "      <td>NaN</td>\n",
       "      <td>NaN</td>\n",
       "      <td>NaN</td>\n",
       "      <td>0.002168</td>\n",
       "      <td>0.003613</td>\n",
       "      <td>0.001806</td>\n",
       "    </tr>\n",
       "    <tr>\n",
       "      <th>21232</th>\n",
       "      <td>NaN</td>\n",
       "      <td>NaN</td>\n",
       "      <td>NaN</td>\n",
       "      <td>NaN</td>\n",
       "      <td>NaN</td>\n",
       "      <td>NaN</td>\n",
       "      <td>NaN</td>\n",
       "      <td>NaN</td>\n",
       "      <td>0.002912</td>\n",
       "      <td>0.00182</td>\n",
       "    </tr>\n",
       "    <tr>\n",
       "      <th>22197</th>\n",
       "      <td>NaN</td>\n",
       "      <td>NaN</td>\n",
       "      <td>NaN</td>\n",
       "      <td>NaN</td>\n",
       "      <td>NaN</td>\n",
       "      <td>NaN</td>\n",
       "      <td>NaN</td>\n",
       "      <td>NaN</td>\n",
       "      <td>NaN</td>\n",
       "      <td>0.001177</td>\n",
       "    </tr>\n",
       "    <tr>\n",
       "      <th>22383</th>\n",
       "      <td>NaN</td>\n",
       "      <td>NaN</td>\n",
       "      <td>NaN</td>\n",
       "      <td>NaN</td>\n",
       "      <td>NaN</td>\n",
       "      <td>NaN</td>\n",
       "      <td>NaN</td>\n",
       "      <td>NaN</td>\n",
       "      <td>NaN</td>\n",
       "      <td>NaN</td>\n",
       "    </tr>\n",
       "  </tbody>\n",
       "</table>\n",
       "</div>"
      ],
      "text/plain": [
       "StockCode 85123A     22423    85099B     21212     20725     84879     47566  \\\n",
       "StockCode                                                                      \n",
       "85123A       NaN  0.005833   0.00446  0.001544  0.002745   0.00772  0.005318   \n",
       "22423        NaN       NaN  0.003165  0.005199  0.001808  0.007459  0.004747   \n",
       "85099B       NaN       NaN       NaN  0.002372  0.013046  0.001898  0.002609   \n",
       "21212        NaN       NaN       NaN       NaN  0.003918  0.001507  0.003014   \n",
       "20725        NaN       NaN       NaN       NaN       NaN  0.000614  0.000921   \n",
       "84879        NaN       NaN       NaN       NaN       NaN       NaN  0.008108   \n",
       "47566        NaN       NaN       NaN       NaN       NaN       NaN       NaN   \n",
       "21232        NaN       NaN       NaN       NaN       NaN       NaN       NaN   \n",
       "22197        NaN       NaN       NaN       NaN       NaN       NaN       NaN   \n",
       "22383        NaN       NaN       NaN       NaN       NaN       NaN       NaN   \n",
       "\n",
       "StockCode     21232     22197     22383  \n",
       "StockCode                                \n",
       "85123A     0.002745  0.003603  0.000858  \n",
       "22423      0.003391  0.004747  0.001356  \n",
       "85099B      0.00166  0.003083  0.004269  \n",
       "21212      0.012055  0.001507  0.000603  \n",
       "20725      0.005523  0.001227  0.044799  \n",
       "84879      0.001689  0.002365  0.000676  \n",
       "47566      0.002168  0.003613  0.001806  \n",
       "21232           NaN  0.002912   0.00182  \n",
       "22197           NaN       NaN  0.001177  \n",
       "22383           NaN       NaN       NaN  "
      ]
     },
     "execution_count": 22,
     "metadata": {},
     "output_type": "execute_result"
    }
   ],
   "source": [
    "abi_mat"
   ]
  },
  {
   "cell_type": "markdown",
   "metadata": {},
   "source": [
    "Plotting a heatmat for better visualisation of the calculation of the respestive abi indices"
   ]
  },
  {
   "cell_type": "code",
   "execution_count": 23,
   "metadata": {},
   "outputs": [
    {
     "data": {
      "image/png": "[encoded data removed]",
      "text/plain": [
       "<Figure size 1000x800 with 2 Axes>"
      ]
     },
     "metadata": {},
     "output_type": "display_data"
    }
   ],
   "source": [
    "plt.figure(figsize=(10, 8))\n",
    "sns.heatmap(abi_mat.astype(float), annot=True, cmap='coolwarm')\n",
    "plt.title('ABI Index Heatmap')\n",
    "plt.xlabel('Next Best Products')\n",
    "plt.ylabel('Top Selling Products')\n",
    "plt.show()\n"
   ]
  },
  {
   "cell_type": "code",
   "execution_count": null,
   "metadata": {},
   "outputs": [],
   "source": []
  }
 ],
 "metadata": {
  "kernelspec": {
   "display_name": "Python 3",
   "language": "python",
   "name": "python3"
  },
  "language_info": {
   "codemirror_mode": {
    "name": "ipython",
    "version": 3
   },
   "file_extension": ".py",
   "mimetype": "text/x-python",
   "name": "python",
   "nbconvert_exporter": "python",
   "pygments_lexer": "ipython3",
   "version": "3.10.11"
  }
 },
 "nbformat": 4,
 "nbformat_minor": 2
}
